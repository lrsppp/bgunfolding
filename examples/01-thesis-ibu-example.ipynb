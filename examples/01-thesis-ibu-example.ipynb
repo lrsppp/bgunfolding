{
 "cells": [
  {
   "cell_type": "code",
   "execution_count": 1,
   "metadata": {},
   "outputs": [
    {
     "name": "stdout",
     "output_type": "stream",
     "text": [
      "The history saving thread hit an unexpected error (DatabaseError('database disk image is malformed')).History will not be written to the database.\n"
     ]
    },
    {
     "name": "stderr",
     "output_type": "stream",
     "text": [
      "/home/lars/.local/anaconda3/lib/python3.8/site-packages/fact/io.py:63: UserWarning: BLOSC compression for hdf5 not available, you will not be able to create or read blosc compressed datasets make sure tables and h5py are linked against the same hdf5 library e.g. by installing hdf5 in your system and doing  `pip install --no-binary=tables --no-binary=h5py tables h5py` or using conda\n",
      "  warnings.warn(\n"
     ]
    },
    {
     "name": "stdout",
     "output_type": "stream",
     "text": [
      "Data succesfully read. (n_samples : 20)\n"
     ]
    }
   ],
   "source": [
    "from bgunfolding import Sampler, hist, hist_error\n",
    "from bgunfolding import IBU, ImprIBU\n",
    "from bgunfolding.metrics import emd\n",
    "\n",
    "import numpy as np\n",
    "import matplotlib.pyplot as plt\n",
    "\n",
    "# Read samples\n",
    "s = Sampler()\n",
    "s.read_sample('../data/sample_0.b')\n",
    "\n",
    "# Load quantities of one sample\n",
    "f, g, b, A, area_eff, acceptance, eff = s.load_one(i = 0)\n",
    "\n",
    "# Iterative Bayesian Unfolding\n",
    "x0 = np.ones(len(f)) / len(f)\n",
    "ibu = IBU(n_iterations = 10, \n",
    "          x0 = x0, \n",
    "          smoothing = 'polynomial',\n",
    "          smoothing_order = 2,\n",
    "          smoothing_cut_overflow = True)\n",
    "\n",
    "ibu.fit(f, g, b, A, area_eff, acceptance, eff)\n",
    "priorf, priorf_err = ibu.predict()\n",
    "\n",
    "# Improved Iterative Bayesian\n",
    "impribu = ImprIBU(n_mc = 1000)\n",
    "impribu.fit(f, g, b, A, area_eff, acceptance, eff)\n",
    "\n",
    "# Estimate Energy Spectrum\n",
    "f_est, f_est_err = impribu.mc_unf(priorf, f, full_return = False)\n",
    "\n",
    "# Earth Mover's Distance\n",
    "emd_ff = emd(f_est, f, cut_overflow = True)"
   ]
  },
  {
   "cell_type": "code",
   "execution_count": 2,
   "metadata": {},
   "outputs": [],
   "source": [
    "from bgunfolding import hist, hist_error\n",
    "from astropy import units as u\n",
    "\n",
    "import matplotlib.pyplot as plt\n",
    "import numpy as np"
   ]
  },
  {
   "cell_type": "code",
   "execution_count": 3,
   "metadata": {},
   "outputs": [],
   "source": [
    "bin_width = np.diff(s.bins_true)[1:-1]\n",
    "bin_centers = 0.5 * (s.bins_true[1:-2] + s.bins_true[2:-1])"
   ]
  },
  {
   "cell_type": "code",
   "execution_count": 4,
   "metadata": {},
   "outputs": [],
   "source": [
    "# flux\n",
    "bin_width = np.diff(s.bins_true)[1:-1] * u.GeV\n",
    "norm = 1 / (impribu.area_eff[1:-1] * u.m ** 2) / (s.obstime * u.hr) / (bin_width)\n",
    "norm = norm.to(1 / (u.TeV * u.s * u.cm ** 2))\n",
    "flux_est = f_est[1:-1] * norm\n",
    "\n",
    "flux_est_std = f_est_err[1:-1] * norm\n",
    "\n",
    "n_iteration = 10"
   ]
  },
  {
   "cell_type": "code",
   "execution_count": 5,
   "metadata": {},
   "outputs": [
    {
     "data": {
      "image/png": "[encoded data removed]",
      "text/plain": [
       "<Figure size 432x288 with 2 Axes>"
      ]
     },
     "metadata": {
      "needs_background": "light"
     },
     "output_type": "display_data"
    }
   ],
   "source": [
    "fig, ax = plt.subplots(2, sharex = True)\n",
    "\n",
    "\n",
    "hist(ax[0], f_est, s.bins_true, label = r'${\\hat{f}}$')\n",
    "hist_error(ax[0], f_est, f_est_err, s.bins_true)\n",
    "ax[0].set_ylabel(r'$\\mathrm{Counts}$')\n",
    "hist(ax[0], f, s.bins_true, label = r'${f}$')\n",
    "\n",
    "ax[0].plot([], [], ' ', label= r'$d_{\\mathrm{EMD}}(\\hat{f}}, f) = %s$' % str(np.round(emd_ff, 2)))\n",
    "\n",
    "handles, labels = ax[0].get_legend_handles_labels()\n",
    "order = [1,2,0]\n",
    "ax[0].legend([handles[idx] for idx in order],[labels[idx] for idx in order])\n",
    "           \n",
    "# flux plot\n",
    "e_plot = np.logspace(2.7, 4.3, 100)\n",
    "ax[1].plot(\n",
    "    e_plot,\n",
    "    3.23e-11 * (e_plot / 1000)**(-2.47 - 0.24 * np.log10(e_plot / 1000)),\n",
    "    label=r'$\\mathrm{MAGIC\\,2015}$',\n",
    "    color='k'\n",
    ")\n",
    "\n",
    "ax[1].errorbar(bin_centers, flux_est.value, \n",
    "               xerr = bin_width.value / 2, yerr = flux_est_std.value, \n",
    "               ls = 'none', capsize = 2, label = r'$\\mathrm{Flux}\\,\\Phi(\\hat{f})$')\n",
    "\n",
    "ax[1].set_yscale('log')\n",
    "ax[1].set_xscale('log')\n",
    "ax[1].set_xlabel(r'$E_{\\mathrm{true}}\\,/\\,\\mathrm{GeV}$')\n",
    "ax[1].set_ylabel(r'$\\mathrm{Flux}\\,\\Phi\\,/\\,(\\mathrm{cm}^{-2}\\,\\mathrm{s}^{-1}\\,\\mathrm{TeV}^{-1})$')\n",
    "ax[1].legend(loc = 'upper right', fontsize = 8)\n",
    "\n",
    "data_id = 0\n",
    "# plt.savefig(f'../plots/{data_id}/impribu_unfolding_flux.pdf')"
   ]
  }
 ],
 "metadata": {
  "kernelspec": {
   "display_name": "Python 3",
   "language": "python",
   "name": "python3"
  },
  "language_info": {
   "codemirror_mode": {
    "name": "ipython",
    "version": 3
   },
   "file_extension": ".py",
   "mimetype": "text/x-python",
   "name": "python",
   "nbconvert_exporter": "python",
   "pygments_lexer": "ipython3",
   "version": "3.8.5"
  }
 },
 "nbformat": 4,
 "nbformat_minor": 4
}
