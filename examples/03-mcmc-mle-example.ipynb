{
 "cells": [
  {
   "cell_type": "code",
   "execution_count": 30,
   "metadata": {},
   "outputs": [
    {
     "name": "stdout",
     "output_type": "stream",
     "text": [
      "Data succesfully read. (n_samples : 20)\n"
     ]
    }
   ],
   "source": [
    "from bgunfolding import Sampler, hist, hist_error\n",
    "from bgunfolding import MLE, MCMC\n",
    "from bgunfolding.metrics import emd\n",
    "from bgunfolding.tikhonov_matrices import second_order_central\n",
    "\n",
    "from bgunfolding.mcmc import log_prob\n",
    "\n",
    "import numpy as np\n",
    "import matplotlib.pyplot as plt\n",
    "\n",
    "# Read samples\n",
    "s = Sampler()\n",
    "s.read_sample('../data/sample_0.b')\n",
    "\n",
    "# Load quantities of one sample\n",
    "f, g, b, A, area_eff, acceptance, eff = s.load_one(i = 0)"
   ]
  },
  {
   "cell_type": "code",
   "execution_count": 14,
   "metadata": {},
   "outputs": [],
   "source": [
    "# Maximum Likelihood Unfolding\n",
    "C = second_order_central(len(f) - 2)\n",
    "bounds = [[1e-12, None] for i in range(s.n_bins_true + 2)]\n",
    "\n",
    "x0 = np.ones(len(f)) / len(f)\n",
    "mle = MLE(C = C, \n",
    "          x0 = x0,\n",
    "          bounds = bounds)\n",
    "\n",
    "mle.fit(f, g, b, A, area_eff, acceptance, eff)"
   ]
  },
  {
   "cell_type": "code",
   "execution_count": 16,
   "metadata": {},
   "outputs": [],
   "source": [
    "# Estimate Regularization Strength\n",
    "tau_est = mle.estimate_tau(0, 3, n_tau = 500, log = True)"
   ]
  },
  {
   "cell_type": "code",
   "execution_count": 23,
   "metadata": {},
   "outputs": [],
   "source": [
    "# Predict using MLE\n",
    "f_est_mle = mle.predict(tau_est)\n",
    "cov = np.linalg.inv(mle.predict_hess(f_est_mle, tau_est))\n",
    "f_est_mle_err = np.sqrt(np.diag(cov))"
   ]
  },
  {
   "cell_type": "code",
   "execution_count": 48,
   "metadata": {},
   "outputs": [
    {
     "data": {
      "image/png": "[encoded data removed]",
      "text/plain": [
       "<Figure size 432x288 with 1 Axes>"
      ]
     },
     "metadata": {
      "needs_background": "light"
     },
     "output_type": "display_data"
    }
   ],
   "source": [
    "fig, ax = plt.subplots()\n",
    "\n",
    "ax.set_title(f'EMD : {emd(f_est_mle, f).round(2)}')\n",
    "hist(ax, f_est_mle, s.bins_true, label = 'f_est')\n",
    "hist(ax, f, s.bins_true, label = 'f_true')\n",
    "hist_error(ax, f_est_mle[1:-1], f_est_mle_err, s.bins_true[1:-1], cut_overflow=False)"
   ]
  },
  {
   "cell_type": "code",
   "execution_count": 33,
   "metadata": {},
   "outputs": [],
   "source": [
    "# MCMC\n",
    "mcmc = MCMC()\n",
    "mcmc.fit(f, g, b, A, area_eff, acceptance, eff)\n",
    "\n",
    "nwalkers = 100\n",
    "ndim = len(f)\n",
    "\n",
    "mcmc.init_sampler(log_prob = log_prob,\n",
    "                  nwalkers = nwalkers, \n",
    "                  ndim = ndim,\n",
    "                  C = C, \n",
    "                  tau = tau_est)"
   ]
  },
  {
   "cell_type": "code",
   "execution_count": 34,
   "metadata": {},
   "outputs": [],
   "source": [
    "p0 = np.abs(np.random.randn(nwalkers, ndim))\n",
    "res = mcmc.run_mcmc(p0, \n",
    "                    tau_est, \n",
    "                    nburnin = 500, \n",
    "                    nmcmc = 1500)"
   ]
  },
  {
   "cell_type": "code",
   "execution_count": 39,
   "metadata": {},
   "outputs": [],
   "source": [
    "percentiles = res['percentiles'] # 16, 50, 84\n",
    "f_est = percentiles.T[1] # Median"
   ]
  },
  {
   "cell_type": "code",
   "execution_count": 55,
   "metadata": {},
   "outputs": [
    {
     "data": {
      "image/png": "[encoded data removed]",
      "text/plain": [
       "<Figure size 432x288 with 1 Axes>"
      ]
     },
     "metadata": {
      "needs_background": "light"
     },
     "output_type": "display_data"
    }
   ],
   "source": [
    "fig, ax = plt.subplots()\n",
    "\n",
    "ax.set_title(f'EMD : {emd(f_est, f).round(2)}')\n",
    "\n",
    "for i in range(len(f) - 2):\n",
    "    x = np.linspace(s.bins_true[1:-1][i], \n",
    "                    s.bins_true[1:-1][i+1], 100)\n",
    "    \n",
    "    # fill 1 sigma credible interval\n",
    "    plt.fill_between(x, \n",
    "                     percentiles.T[0][1:-1][i],\n",
    "                     percentiles.T[2][1:-1][i], color = 'C0', alpha = 0.25)\n",
    "\n",
    "    \n",
    "hist(ax, f_est, s.bins_true, label = 'f_est')\n",
    "hist(ax, f, s.bins_true, label = 'f_true')"
   ]
  },
  {
   "cell_type": "code",
   "execution_count": null,
   "metadata": {},
   "outputs": [],
   "source": []
  }
 ],
 "metadata": {
  "kernelspec": {
   "display_name": "Python 3",
   "language": "python",
   "name": "python3"
  },
  "language_info": {
   "codemirror_mode": {
    "name": "ipython",
    "version": 3
   },
   "file_extension": ".py",
   "mimetype": "text/x-python",
   "name": "python",
   "nbconvert_exporter": "python",
   "pygments_lexer": "ipython3",
   "version": "3.7.6"
  }
 },
 "nbformat": 4,
 "nbformat_minor": 4
}
